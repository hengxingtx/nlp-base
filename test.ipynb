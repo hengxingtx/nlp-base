{
 "cells": [
  {
   "cell_type": "code",
   "execution_count": 17,
   "metadata": {},
   "outputs": [
    {
     "data": {
      "text/plain": "0"
     },
     "execution_count": 17,
     "metadata": {},
     "output_type": "execute_result"
    }
   ],
   "source": [
    "import subprocess\n",
    "import os\n",
    "\n",
    "subprocess.run([\"split\", \"-l\", \"1000\", \"stopwords_cn.txt\", \"test_1\"], capture_output=True)\n",
    "subprocess.run([\"touch\", \"test_1.txt\"], capture_output=True)\n",
    "subprocess.run([\"cat\", \"test*\", \">>\", \"test_1.txt\"], capture_output=True)\n",
    "# subprocess.run([\"head\", \"-n\", \"100\", \">>\", \"test_1.txt\"], capture_output=True)\n",
    "os.system(\"cat test_1* >> 1.txt\")"
   ]
  },
  {
   "cell_type": "code",
   "execution_count": 30,
   "metadata": {},
   "outputs": [
    {
     "name": "stdout",
     "output_type": "stream",
     "text": [
      "./test_file/ ['1'] ['test_1ab', 'test_1.txt', 'test_1aa']\n",
      "11111111 ./test_file/test_1ab\n",
      "11111111 ./test_file/test_1.txt\n",
      "11111111 ./test_file/test_1aa\n",
      "./test_file/1 ['2'] ['1.txt']\n",
      "11111111 ./test_file/1/1.txt\n",
      "./test_file/1/2 [] ['2.txt']\n",
      "11111111 ./test_file/1/2/2.txt\n"
     ]
    }
   ],
   "source": [
    "for dirpath, dirname, filenames in os.walk(\"./test_file/\"):\n",
    "    print(dirpath, dirname, filenames)\n",
    "    for sub_file in filenames:\n",
    "        print(\"11111111\",os.path.join(dirpath, sub_file))"
   ]
  },
  {
   "cell_type": "code",
   "execution_count": 51,
   "metadata": {},
   "outputs": [
    {
     "data": {
      "text/plain": "True"
     },
     "execution_count": 51,
     "metadata": {},
     "output_type": "execute_result"
    }
   ],
   "source": [
    "import text_processing as t_p\n",
    "t_p._is_punctuation(\"》\")"
   ]
  }
 ],
 "metadata": {
  "kernelspec": {
   "display_name": "Python 3.8.5 64-bit ('base': conda)",
   "name": "python385jvsc74a57bd01053a7b42ccd76d4e0685300e85553302be96b1023bb7fe000f06b05a8556ad7"
  },
  "language_info": {
   "codemirror_mode": {
    "name": "ipython",
    "version": 3
   },
   "file_extension": ".py",
   "mimetype": "text/x-python",
   "name": "python",
   "nbconvert_exporter": "python",
   "pygments_lexer": "ipython3",
   "version": "3.8.5"
  },
  "metadata": {
   "interpreter": {
    "hash": "1053a7b42ccd76d4e0685300e85553302be96b1023bb7fe000f06b05a8556ad7"
   }
  },
  "orig_nbformat": 2
 },
 "nbformat": 4,
 "nbformat_minor": 2
}